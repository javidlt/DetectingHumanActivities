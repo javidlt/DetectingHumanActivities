{
 "cells": [
  {
   "cell_type": "markdown",
   "id": "76e9b999",
   "metadata": {},
   "source": [
    "### Preprocess Images\n",
    "    - Use YOLO model to detect humans, crop image and use for image classification"
   ]
  },
  {
   "cell_type": "code",
   "execution_count": null,
   "id": "80222070",
   "metadata": {},
   "outputs": [],
   "source": [
    "import requests\n",
    "from imageai.Detection import ObjectDetection"
   ]
  }
 ],
 "metadata": {
  "language_info": {
   "name": "python"
  }
 },
 "nbformat": 4,
 "nbformat_minor": 5
}
